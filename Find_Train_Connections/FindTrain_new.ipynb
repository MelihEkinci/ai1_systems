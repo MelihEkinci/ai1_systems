{
 "cells": [
  {
   "cell_type": "code",
   "execution_count": 33,
   "metadata": {},
   "outputs": [],
   "source": [
    "import csv\n",
    "import heapq\n",
    "from datetime import datetime\n",
    "from datetime import timedelta\n",
    "import pandas as pd\n",
    "\n",
    "# Step 1: Parse the CSV file\n",
    "def parse_schedule_csv(file_path):\n",
    "    with open(file_path, mode='r') as csvfile:\n",
    "        reader = csv.DictReader(csvfile)\n",
    "        schedule_data = [row for row in reader]\n",
    "    return schedule_data"
   ]
  },
  {
   "cell_type": "code",
   "execution_count": 34,
   "metadata": {},
   "outputs": [],
   "source": [
    "def time_to_minutes(time_str):\n",
    "    # A helper function to convert time in HH:MM:SS format to minutes\n",
    "    hours, minutes, _ = map(int, time_str[1:-1].split(':'))\n",
    "    return hours * 60 + minutes"
   ]
  },
  {
   "cell_type": "code",
   "execution_count": 35,
   "metadata": {},
   "outputs": [],
   "source": [
    "def build_graph(schedule_data):\n",
    "    graph = {}\n",
    "    added_minutes = 0  # To track added time due to next day arrival\n",
    "\n",
    "    for i in range(len(schedule_data) - 1):\n",
    "        train_no = schedule_data[i]['Train No.'].strip()\n",
    "        from_station = schedule_data[i]['station Code'].strip()\n",
    "        from_islno = schedule_data[i]['islno'].strip()\n",
    "        departure_time = schedule_data[i]['Departure time'].strip()\n",
    "        distance = int(schedule_data[i]['Distance'])\n",
    "\n",
    "        # Reset added_minutes if we are looking at a new train\n",
    "        if i == 0 or schedule_data[i - 1]['Train No.'].strip() != train_no:\n",
    "            added_minutes = 0\n",
    "\n",
    "        departure_minutes = time_to_minutes(departure_time) + added_minutes\n",
    "\n",
    "        # Check the next entry only if it is for the same train\n",
    "        if schedule_data[i + 1]['Train No.'].strip() == train_no:\n",
    "            to_station = schedule_data[i + 1]['station Code'].strip()\n",
    "            to_islno = schedule_data[i + 1]['islno'].strip()\n",
    "            arrival_time = schedule_data[i + 1]['Arrival time'].strip()\n",
    "            next_distance = int(schedule_data[i + 1]['Distance'])\n",
    "\n",
    "            arrival_minutes = time_to_minutes(arrival_time) + added_minutes\n",
    "\n",
    "            # Check if the arrival time is on the next day\n",
    "            if arrival_minutes < departure_minutes:\n",
    "                arrival_minutes += 1440  # Add 24 hours in minutes\n",
    "                added_minutes += 1440   # Carry this forward for subsequent stops\n",
    "\n",
    "            weight = next_distance - distance\n",
    "\n",
    "            edge_data = {\n",
    "                'to_station': to_station,\n",
    "                'to_islno': to_islno,\n",
    "                'train_no': train_no[1:-1],\n",
    "                'from_islno': from_islno,\n",
    "                'departure_minutes': departure_minutes,\n",
    "                'arrival_minutes': arrival_minutes,\n",
    "                'departure': departure_time[1:-1],\n",
    "                'arrival': arrival_time[1:-1],\n",
    "                'weight': weight\n",
    "            }\n",
    "\n",
    "            if from_station not in graph:\n",
    "                graph[from_station] = []\n",
    "            graph[from_station].append(edge_data)\n",
    "\n",
    "    return graph\n"
   ]
  },
  {
   "cell_type": "code",
   "execution_count": 36,
   "metadata": {},
   "outputs": [],
   "source": [
    "def calculate_cost(from_station, to_station, connection, cost_type, graph,new_day,train_changed):\n",
    "    # The connection is now a dictionary with time and distance information\n",
    "    if cost_type == 'stops':\n",
    "        # Assuming 1 stop per connection here\n",
    "        return 1\n",
    "    elif cost_type == 'distance':\n",
    "        # Distance is already provided as the weight in the graph\n",
    "        return connection['weight']\n",
    "    elif cost_type == 'price':\n",
    "        if train_changed==0 and new_day==0:\n",
    "            x=0\n",
    "        if train_changed==0 and new_day==1:\n",
    "            x=1\n",
    "        if train_changed==1 and new_day==1:\n",
    "            x=1\n",
    "        if train_changed==1 and new_day==0:\n",
    "            x=1\n",
    "        #print(\"inside of cost\",train_changed, new_day,x) \n",
    "        return x\n",
    "\n",
    "\n",
    "    elif cost_type[0:11] == 'arrivaltime':\n",
    "        # Parse the start time and the edge's departure and arrival times\n",
    "        start_datetime = datetime.strptime(str(cost_type[12:]), \"%H:%M:%S\")\n",
    "        departure_datetime = datetime.strptime(connection['departure'], \"%H:%M:%S\")\n",
    "        arrival_datetime = datetime.strptime(connection['arrival'], \"%H:%M:%S\")\n",
    "        \n",
    "        if departure_datetime < start_datetime:\n",
    "            departure_datetime += timedelta(days=1)\n",
    "        if arrival_datetime < departure_datetime:\n",
    "            arrival_datetime += timedelta(days=1)\n",
    "\n",
    "        total_duration = arrival_datetime - start_datetime\n",
    "        return total_duration\n",
    "    \n",
    "    else:\n",
    "        raise ValueError(\"Unknown cost type\")\n"
   ]
  },
  {
   "cell_type": "code",
   "execution_count": 37,
   "metadata": {},
   "outputs": [],
   "source": [
    "def dijkstra(graph, start, end, cost_function):\n",
    "    if cost_function[0:11] == 'arrivaltime':\n",
    "         queue = [(timedelta(days=0, hours=0, minutes=0, seconds=0), start, [],None,[],None,[], datetime.strptime(cost_function[12:], \"%H:%M:%S\"))]\n",
    "    else:\n",
    "        queue = [(0, start, [],None,[],None,[], datetime.strptime('00:00:00', \"%H:%M:%S\"))]  # (cost, current_station, path,train no, from station no, arrival_time_at_current_station)\n",
    "    visited = set()\n",
    "    is_first_iteration=True\n",
    "    while queue:\n",
    "        (cost, current_station, path, train, train_list, from_station,from_station_list, arrival_time_at_current_station) = heapq.heappop(queue)\n",
    "        if current_station not in visited:\n",
    "            visited.add(current_station)\n",
    "            path = path + [current_station]\n",
    "            train_list=train_list+[train]\n",
    "            from_station_list=from_station_list+[from_station]\n",
    "\n",
    "            if current_station == end:\n",
    "                return (cost, path, train_list[1:],from_station_list[1:])  # Return the cost and path as a tuple\n",
    "            if cost_function[0:11] == 'arrivaltime':\n",
    "                cost_function=cost_function.replace(cost_function[12:], arrival_time_at_current_station.strftime(\"%H:%M:%S\"))\n",
    "            for edge_data in graph.get(current_station, []):\n",
    "                next_station = edge_data['to_station']\n",
    "                next_train_no=edge_data['train_no']\n",
    "                from_station_no=edge_data['from_islno']\n",
    "\n",
    "                if next_station not in visited:\n",
    "                    departure_time = datetime.strptime(edge_data['departure'], \"%H:%M:%S\") ### this is next possible connection!!!!\n",
    "                    arrival_time = datetime.strptime(edge_data['arrival'], \"%H:%M:%S\") \n",
    "\n",
    "                    # Check if the arrival time at the current station is before the departure time of the next train\n",
    "                    new_day=0\n",
    "                    if departure_time.hour*60+departure_time.minute>arrival_time.hour*60+arrival_time.minute:\n",
    "                        new_day=1\n",
    "\n",
    "                    if departure_time.hour*60+departure_time.minute<arrival_time_at_current_station.hour*60+arrival_time_at_current_station.minute:\n",
    "                            departure_time=departure_time+timedelta(minutes=1440)\n",
    "                \n",
    "                    train_changed=0\n",
    "                    ###check if the trains are switched\n",
    "                    if next_train_no!=train:\n",
    "                        train_changed=1\n",
    "\n",
    "                    time_difference=departure_time-arrival_time_at_current_station\n",
    "\n",
    "                    if is_first_iteration==True or train_changed==0:\n",
    "                        total_cost = cost + calculate_cost(current_station,next_station,edge_data,cost_function,graph,new_day,train_changed)\n",
    "                        new_path = path.copy()  # Make a copy of the current path\n",
    "                        new_train_list=train_list.copy()\n",
    "                        new_from_station_list=from_station_list.copy()\n",
    "                        heapq.heappush(queue, (total_cost, next_station, new_path,next_train_no,new_train_list,from_station_no,new_from_station_list, datetime.strptime(edge_data['arrival'], \"%H:%M:%S\")))\n",
    "\n",
    "                    else: \n",
    "                        if time_difference.total_seconds()/60>=10: \n",
    "                            total_cost = cost + calculate_cost(current_station,next_station,edge_data,cost_function,graph,new_day,train_changed)\n",
    "                            new_path = path.copy()  # Make a copy of the current path\n",
    "                            new_train_list=train_list.copy()\n",
    "                            new_from_station_list=from_station_list.copy()\n",
    "                            heapq.heappush(queue, (total_cost, next_station, new_path,next_train_no,new_train_list,from_station_no,new_from_station_list, datetime.strptime(edge_data['arrival'], \"%H:%M:%S\")))\n",
    "            is_first_iteration=False\n",
    "    return (float('inf'), [],[],[])  # Return infinity and an empty path if the destination is not reachable\n"
   ]
  },
  {
   "cell_type": "code",
   "execution_count": 38,
   "metadata": {},
   "outputs": [],
   "source": [
    "def get_connection(path,train_list,from_station_list):\n",
    "    result=\"\"\n",
    "    visited=set()\n",
    "    for i in range(len(train_list)):\n",
    "        if i==len(train_list)-1:\n",
    "            if str(train_list[i]) not in visited:\n",
    "               result=result+str(train_list[i]) +\" : \"+str(from_station_list[i]) + \" -> \" +str(int(from_station_list[i])+1)\n",
    "            else:\n",
    "                result=result +str(int(from_station_list[i])+1) + \" ; \"\n",
    "        else:\n",
    "            if str(train_list[i]) not in visited and (train_list[i]!=train_list[i+1]) :\n",
    "                result=result+str(train_list[i]) +\" : \"+str(from_station_list[i]) + \" -> \" +str(int(from_station_list[i])+1) + \" ; \"\n",
    "                visited.add(str(train_list[i]))\n",
    "            elif str(train_list[i]) not in visited and (train_list[i]==train_list[i+1]) :\n",
    "                result=result+str(train_list[i]) +\" : \"+str(from_station_list[i]) + \" -> \"\n",
    "                visited.add(str(train_list[i]))\n",
    "            elif str(train_list[i]) in visited and str(train_list[i+1]) not in visited:\n",
    "                result=result +str(int(from_station_list[i])+1) + \" ; \"\n",
    "    #print(result)\n",
    "    return result"
   ]
  },
  {
   "cell_type": "code",
   "execution_count": 39,
   "metadata": {},
   "outputs": [
    {
     "name": "stdout",
     "output_type": "stream",
     "text": [
      "Cost: 18, Path: ['DPW', 'SMC', 'CRN', 'LTA', 'NWA', 'NIR', 'PDE', 'GNS', 'SKY', 'BUQ', 'HBG', 'JBP', 'BSL', 'BPL', 'PUNE', 'BRC', 'ADI', 'SAU', 'GGM']\n"
     ]
    },
    {
     "data": {
      "text/plain": [
       "'58865 : 2 -> 3 ; 10001 : 2 -> 12 ; 12142 : 7 -> 8 ; 12107 : 5 -> 6 ; 12630 : 3 -> 4 ; 22695 : 4 -> 5 ; 12298 : 4 -> 5 ; 19017 : 18 -> 19 ; 59548 : 43 -> 44'"
      ]
     },
     "execution_count": 39,
     "metadata": {},
     "output_type": "execute_result"
    }
   ],
   "source": [
    "# Example usage\n",
    "schedule_data = parse_schedule_csv('schedule.csv')\n",
    "graph = build_graph(schedule_data)\n",
    "cost, path,train_list,from_station_list = dijkstra(graph, 'DPW', 'GGM', 'stops')\n",
    "print(f\"Cost: {cost}, Path: {path}\")\n",
    "get_connection(path,train_list,from_station_list)\n"
   ]
  },
  {
   "cell_type": "code",
   "execution_count": 40,
   "metadata": {},
   "outputs": [
    {
     "name": "stdout",
     "output_type": "stream",
     "text": [
      "Cost: 1255, Path: ['ARK', 'GPJ', 'DPC', 'PFU', 'BHJA', 'MKRD', 'PBV', 'SUKU', 'KRPU', 'DMNJ', 'LKMR', 'TKRI', 'RUL', 'LLGM', 'BLMK', 'SKPI', 'KTGA', 'SPRD', 'THV', 'MNGD', 'KSNG', 'TIG', 'BLGR', 'BRGA', 'SBP', 'JSG', 'BMB', 'GP', 'KXN', 'KLG', 'PPO', 'ROU', 'BZR', 'BUL', 'JRA', 'MOU', 'GOL', 'SWR', 'CKP', 'RKSN', 'SINI', 'KND', 'CNI', 'BBM', 'PRR', 'ANR', 'JOC', 'ASN', 'CRJ', 'VDS', 'MDP', 'JSME', 'STL', 'JAJ', 'GHR', 'JMU', 'MNP', 'BSQP', 'KIUL', 'BRYA', 'HTZ', 'MKA', 'BARH']\n"
     ]
    },
    {
     "data": {
      "text/plain": [
       "'58501 : 16 -> 24 ; 18006 : 3 -> 6 ; 18448 : 11 -> 17 ; 12807 : 8 -> 10 ; 12375 : 16 -> 17 ; 08302 : 22 -> 22 ; 18029 : 61 -> 62 ; 13287 : 14 -> 15 ; 18418 : 15 -> 16 ; 33 ; 18478 : 56 -> 57 ; 58114 : 41 -> 42 ; 58112 : 89 -> 90 ; 67 ; 12872 : 17 -> 18 ; 23 ; 58012 : 5 -> 6 ; 28 ; 12865 : 9 -> 10 ; 13302 : 4 -> 5 ; 31 ; 02511 : 13 -> 14 ; 08449 : 8 -> 9 ; 15027 : 14 -> 15 ; 18449 : 19 -> 20 ; 22843 : 14 -> 15 ; 13007 : 14 -> 15 ; 83131 : 6 -> 7 ; 9 ; 12351 : 10 -> 13 ; 13413 : 14 -> 15 ; 03401 : 17 -> 18 ; 03235 : 17 -> 19 ; '"
      ]
     },
     "execution_count": 40,
     "metadata": {},
     "output_type": "execute_result"
    }
   ],
   "source": [
    "# Example usage\n",
    "schedule_data = parse_schedule_csv('schedule.csv')\n",
    "graph = build_graph(schedule_data)\n",
    "cost, path,train_list,from_station_list = dijkstra(graph, 'ARK', 'BARH', 'distance')\n",
    "print(f\"Cost: {cost}, Path: {path}\")\n",
    "get_connection(path,train_list,from_station_list)\n"
   ]
  },
  {
   "cell_type": "code",
   "execution_count": 41,
   "metadata": {},
   "outputs": [
    {
     "name": "stdout",
     "output_type": "stream",
     "text": [
      "Cost: 5, Path: ['MKRH', 'RMPB', 'MLNH', 'GRMP', 'BNDP', 'DLPH', 'DOTL', 'MANG', 'GZO', 'EKI', 'ADF', 'OMLF', 'MLDT', 'RPH', 'HWH', 'KGP', 'BHC', 'BBS', 'VSKP', 'BZA', 'SC', 'SEM', 'RC']\n"
     ]
    },
    {
     "data": {
      "text/plain": [
       "'23154 : 2 -> 14 ; 02510 : 6 -> 11 ; 02853 : 3 -> 5 ; 02882 : 4 -> 5 ; 22692 : 6 -> 8 ; '"
      ]
     },
     "execution_count": 41,
     "metadata": {},
     "output_type": "execute_result"
    }
   ],
   "source": [
    "# Example usage\n",
    "schedule_data = parse_schedule_csv('schedule.csv')\n",
    "graph = build_graph(schedule_data)\n",
    "cost, path,train_list,from_station_list = dijkstra(graph, 'MKRH', 'RC', 'price')\n",
    "print(f\"Cost: {cost}, Path: {path}\")\n",
    "get_connection(path,train_list,from_station_list)\n"
   ]
  },
  {
   "cell_type": "code",
   "execution_count": 42,
   "metadata": {},
   "outputs": [
    {
     "name": "stdout",
     "output_type": "stream",
     "text": [
      "Cost: 1 day, 7:48:00, Path: ['ASV', 'ADI', 'SBI', 'KLL', 'MSH', 'UJA', 'SID', 'CHP', 'PNU', 'SIM', 'ABR', 'SRPJ', 'SOH', 'NANA', 'MOI', 'JWB', 'FA', 'MJ', 'PMY', 'LUNI', 'JU', 'RKB', 'MMY', 'TIW', 'OSN', 'MWT']\n"
     ]
    },
    {
     "data": {
      "text/plain": [
       "'19943 : 8 -> 9 ; 19707 : 13 -> 28 ; 19403 : 6 -> 7 ; 16312 : 37 -> 40 ; 04801 : 1 -> 6 ; '"
      ]
     },
     "execution_count": 42,
     "metadata": {},
     "output_type": "execute_result"
    }
   ],
   "source": [
    "# Example usage\n",
    "schedule_data = parse_schedule_csv('schedule.csv')\n",
    "graph = build_graph(schedule_data)\n",
    "cost, path,train_list,from_station_list = dijkstra(graph, 'ASV', 'MWT', 'arrivaltime 10:44:00')\n",
    "print(f\"Cost: {cost}, Path: {path}\")\n",
    "get_connection(path,train_list,from_station_list)\n"
   ]
  },
  {
   "cell_type": "code",
   "execution_count": 44,
   "metadata": {},
   "outputs": [],
   "source": [
    "def read_and_solve_problems(input_file_path,output_file_path):\n",
    "    df = pd.read_csv(input_file_path)\n",
    "    solutions = pd.DataFrame()\n",
    "    solutions = pd.DataFrame(columns=['ProblemNo', 'Connection', 'Cost'])\n",
    "\n",
    "    for i in range(len(df)):\n",
    "        #reading problems\n",
    "        ProblemNo=df['ProblemNo'][i]\n",
    "        FromStation=df['FromStation'][i]\n",
    "        ToStation=df['ToStation'][i]\n",
    "        Schedule=df['Schedule'][i]\n",
    "        CostFunction=df['CostFunction'][i]\n",
    "        #running search algorithm\n",
    "        schedule_data = parse_schedule_csv(Schedule)\n",
    "        graph = build_graph(schedule_data)\n",
    "        cost, path,train_list,from_station_list = dijkstra(graph, FromStation, ToStation, CostFunction)\n",
    "        result=get_connection(path,train_list,from_station_list)\n",
    "        #writing solutions\n",
    "        solutions.loc[i, 'ProblemNo'] = ProblemNo\n",
    "        solutions.loc[i, 'Connection'] = result\n",
    "\n",
    "        #solutions = solutions.append({'ProblemNo': ProblemNo, 'Connection': result, 'Cost': cost}, ignore_index=True)\n",
    "        if CostFunction[:11]=='arrivaltime':\n",
    "            datetime1 = datetime.strptime(CostFunction[12:], \"%H:%M:%S\")\n",
    "            datetime2 = datetime1 + cost\n",
    "\n",
    "            # Extract days, hours, minutes, and seconds\n",
    "            days = datetime2.day-1\n",
    "            hours=datetime2.hour\n",
    "            minutes=datetime2.minute\n",
    "            seconds=datetime2.second\n",
    "\n",
    "            # Format as DD HH MM SS\n",
    "            if days==0:\n",
    "                formatted_duration = f\"{hours:02d}:{minutes:02d}:{seconds:02d}\"\n",
    "            else:\n",
    "                formatted_duration = f\"{days:02d}:{hours:02d}:{minutes:02d}:{seconds:02d}\"\n",
    "            solutions.loc[i, 'Cost'] = formatted_duration\n",
    "        else:\n",
    "            solutions.loc[i, 'Cost'] = cost\n",
    "\n",
    "        solutions.to_csv(output_file_path, index=False)\n",
    "\n"
   ]
  },
  {
   "cell_type": "code",
   "execution_count": 45,
   "metadata": {},
   "outputs": [],
   "source": [
    "read_and_solve_problems('problems.csv','solutions.csv')"
   ]
  },
  {
   "cell_type": "code",
   "execution_count": null,
   "metadata": {},
   "outputs": [],
   "source": []
  }
 ],
 "metadata": {
  "kernelspec": {
   "display_name": "Python 3",
   "language": "python",
   "name": "python3"
  },
  "language_info": {
   "codemirror_mode": {
    "name": "ipython",
    "version": 3
   },
   "file_extension": ".py",
   "mimetype": "text/x-python",
   "name": "python",
   "nbconvert_exporter": "python",
   "pygments_lexer": "ipython3",
   "version": "3.10.8"
  }
 },
 "nbformat": 4,
 "nbformat_minor": 2
}
